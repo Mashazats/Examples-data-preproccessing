{
  "cells": [
    {
      "cell_type": "code",
      "execution_count": null,
      "metadata": {
        "id": "PajkHEk8qSR5",
        "outputId": "bb88d6e4-0c26-4c5f-8696-95d676ffe386"
      },
      "outputs": [
        {
          "name": "stderr",
          "output_type": "stream",
          "text": [
            "Using TensorFlow backend.\n"
          ]
        }
      ],
      "source": [
        "# Dear user/implementor, please read carefully the comments. Thank you.\n",
        "#Requirments:\n",
        "# pandas, scipy, ski-kit, sklearn, fancyimuper\n",
        "#(+ ecos, python 3.6, and keras needed),\n",
        "#matplotlib, missingo\n",
        "#XGboost model + it's requirments\n",
        "# !pip install impyute\n",
        "# !pip install -U scikit-fuzzy\n",
        "# !pip install missingpy\n",
        "# !pip install xgboost\n",
        "# !pip install fancyimpute\n",
        "\n",
        "import pandas as pd\n",
        "from pandas import DataFrame as df\n",
        "import numpy as np\n",
        "\n",
        "from scipy.stats import pearsonr, shapiro, normaltest, kstest, uniform\n",
        "\n",
        "from sklearn.model_selection import train_test_split\n",
        "from sklearn.linear_model import LinearRegression\n",
        "from sklearn.metrics import confusion_matrix\n",
        "from sklearn.preprocessing import Imputer, OneHotEncoder, MultiLabelBinarizer\n",
        "\n",
        "# explicitly require this experimental feature\n",
        "from sklearn.experimental import enable_iterative_imputer\n",
        "from sklearn.impute import IterativeImputer\n",
        "\n",
        "import xgboost as XGboost\n",
        "import fancyimpute\n",
        "from fancyimpute import KNN, NuclearNormMinimization, SoftImpute, SimpleFill, IterativeSVD\n",
        "from missingpy import MissForest\n",
        "import impyute as impy\n",
        "import skfuzzy as fuzz\n",
        "\n",
        "%matplotlib inline\n",
        "import matplotlib.pyplot as plt\n",
        "import missingno as msno\n",
        "import random\n",
        "\n",
        "#from ________ import NN_AutoEncoder"
      ]
    },
    {
      "cell_type": "code",
      "execution_count": null,
      "metadata": {
        "id": "8yr_ndx6qSR7"
      },
      "outputs": [],
      "source": [
        "# preview of the nulity of the data (the dispersion of missing data per feature)\n",
        "import missingno as msno\n",
        "%matplotlib inline\n",
        "\n",
        "def show_missing_dispersion(df_vis):\n",
        "\n",
        "    dfm= df_vis.loc[:, df_vis.isnull().any()]\n",
        "    #matrix of the dispersion of data by columns\n",
        "    msno.matrix(dfm)\n",
        "    msno.bar(dfm, color=\"blue\", log=True, figsize=(30,15))\n",
        "\n",
        "    # heat map of data by correlation of nulity for features\n",
        "    msno.heatmap(dfm, figsize=(20,20))"
      ]
    },
    {
      "cell_type": "code",
      "execution_count": null,
      "metadata": {
        "id": "UFm7VRUoqSR7",
        "outputId": "a5422fe0-06a7-4991-bf5f-e2972e7c0c7e"
      },
      "outputs": [
        {
          "data": {
            "text/plain": [
              "(139695, 3903)"
            ]
          },
          "execution_count": 3,
          "metadata": {},
          "output_type": "execute_result"
        }
      ],
      "source": [
        "#the input values that must be specified by user:\n",
        "\n",
        "#the paths to the data file of feature: change the upload format!\n",
        "full_input = pd.read_pickle(\"./df_retail2.pickle\")\n",
        "\n",
        "# The path to list of features you want to check: if all - leave it 'None'\n",
        "load_list_of_features= None\n",
        "\n",
        "full_input.shape"
      ]
    },
    {
      "cell_type": "code",
      "execution_count": null,
      "metadata": {
        "id": "YKrTvRL1qSR7"
      },
      "outputs": [],
      "source": [
        "#finding the basic key and transaction features in columns\n",
        "#cheching maximum nonunique, visualizing and removing dominanat NaNs features.\n",
        "full_input.nunique().sort_values(ascending=False).head()"
      ]
    },
    {
      "cell_type": "code",
      "execution_count": null,
      "metadata": {
        "id": "CK58m819qSR7",
        "outputId": "1a6ad82b-658d-44c5-fe76-fd7f9cff9fa8"
      },
      "outputs": [
        {
          "data": {
            "text/plain": [
              "<matplotlib.axes._subplots.AxesSubplot at 0x26284981358>"
            ]
          },
          "execution_count": 5,
          "metadata": {},
          "output_type": "execute_result"
        },
        {
          "data": {
            "image/png": "[encoded data removed]",
            "text/plain": [
              "<Figure size 1728x720 with 2 Axes>"
            ]
          },
          "metadata": {
            "needs_background": "light"
          },
          "output_type": "display_data"
        }
      ],
      "source": [
        "msno.bar(full_input)"
      ]
    },
    {
      "cell_type": "code",
      "execution_count": null,
      "metadata": {
        "id": "wEkuvsk8qSR8"
      },
      "outputs": [],
      "source": [
        "full_input.isna().sum().sort_values(ascending=False)/len(full_input)"
      ]
    },
    {
      "cell_type": "code",
      "execution_count": null,
      "metadata": {
        "id": "z6oRKWfDqSR8",
        "outputId": "d65f9775-05b3-42ac-c56f-631774384e02"
      },
      "outputs": [
        {
          "data": {
            "text/plain": [
              "(139695, 585)"
            ]
          },
          "execution_count": 6,
          "metadata": {},
          "output_type": "execute_result"
        }
      ],
      "source": [
        "# Dropping the columns with more than 50% NaNs\n",
        "input_droped = full_input.dropna(axis=1, thresh=int(0.5*len(full_input)))\n",
        "input_droped.shape"
      ]
    },
    {
      "cell_type": "code",
      "execution_count": null,
      "metadata": {
        "id": "cR-XJl70qSR8",
        "outputId": "acfdfff3-3f4b-4382-a945-555aa1621fcc"
      },
      "outputs": [
        {
          "data": {
            "text/plain": [
              "262"
            ]
          },
          "execution_count": 8,
          "metadata": {},
          "output_type": "execute_result"
        }
      ],
      "source": [
        "sum(sum([input_droped.nunique()==1]))"
      ]
    },
    {
      "cell_type": "code",
      "execution_count": null,
      "metadata": {
        "id": "HoesTY1IqSR8",
        "outputId": "5b1c3f21-ee55-41cc-80a6-6b39bb5e223e"
      },
      "outputs": [
        {
          "data": {
            "text/plain": [
              "(139695, 323)"
            ]
          },
          "execution_count": 9,
          "metadata": {},
          "output_type": "execute_result"
        }
      ],
      "source": [
        "input_droped.loc[:,input_droped.nunique()!=1]\n",
        "input_droped2=input_droped.drop(columns=input_droped.columns[input_droped.nunique()==1])\n",
        "input_droped2.shape"
      ]
    },
    {
      "cell_type": "code",
      "execution_count": null,
      "metadata": {
        "id": "ryq1ddUiqSR9"
      },
      "outputs": [],
      "source": [
        "input_droped2.nunique().sort_values(ascending=False)"
      ]
    },
    {
      "cell_type": "code",
      "execution_count": null,
      "metadata": {
        "scrolled": true,
        "id": "SSUI4p7CqSR9"
      },
      "outputs": [],
      "source": [
        "key_cols = [col for col in input_droped2.columns if 'key' in col]\n",
        "print(input_droped2[key_cols].nunique().sort_values(ascending=False))\n",
        "#actimizetransactionkey\n",
        "account_cols = [col for col in input_droped2.columns if 'account' in col]\n",
        "print(input_droped2[account_cols].nunique().sort_values(ascending=False))\n",
        "#actimizeaccountkey  actimizeenrichmentpayeeaccountkey\n",
        "time_cols=input_droped2.filter(regex='time').columns\n",
        "print(input_droped2[time_cols].nunique().sort_values(ascending=False))\n",
        "#transactionnormalizeddatetime\n",
        "balance_cols= input_droped2.filter(regex='balance').columns\n",
        "print(input_droped2[balance_cols].nunique().sort_values(ascending=False))\n",
        "#actimizecalculatedaccountcurrentbalance accountavailablebalance\n",
        "amount_cols=input_droped2.filter(regex='amount').columns\n",
        "print(input_droped2[amount_cols].nunique().sort_values(ascending=False))\n",
        "#requestedamountnormalizedcurrency\n",
        "fraud_cols=input_droped2.filter(regex='fraud').columns\n",
        "print(input_droped2[fraud_cols].nunique().sort_values(ascending=False))\n",
        "#fraud"
      ]
    },
    {
      "cell_type": "code",
      "execution_count": null,
      "metadata": {
        "id": "2BeMwNKUqSR9"
      },
      "outputs": [],
      "source": [
        "#provide the correct names of this features (columns):\n",
        "name_frauds_labels=\n",
        "name_account=\n",
        "name_time_transaction=\n",
        "name_amount_transaction =\n",
        "name_balance=\n",
        "name_key_transaction=\n",
        "name_key_payee=\n",
        "key_account_cols=[name_frauds_labels,name_account, name_time_transaction, name_amount_transaction, name_balance, name_key_transaction, name_key_payee  ]"
      ]
    },
    {
      "cell_type": "code",
      "execution_count": null,
      "metadata": {
        "id": "-opXwl5CqSR-"
      },
      "outputs": [],
      "source": [
        "input_droped2[key_account_cols].nunique().sort_values(ascending=False)"
      ]
    },
    {
      "cell_type": "code",
      "execution_count": null,
      "metadata": {
        "id": "YvT6nBYIqSR-"
      },
      "outputs": [],
      "source": [
        "input_droped2.to_csv(\"./input_droped2.csv\")\n",
        "input_droped2[key_account_cols].count()"
      ]
    },
    {
      "cell_type": "code",
      "execution_count": null,
      "metadata": {
        "id": "ROmIKOy6qSR-",
        "outputId": "b5bce2c1-b754-4da8-93ef-50def7a44ef8"
      },
      "outputs": [
        {
          "data": {
            "text/plain": [
              "<matplotlib.axes._subplots.AxesSubplot at 0x25c82337240>"
            ]
          },
          "execution_count": 16,
          "metadata": {},
          "output_type": "execute_result"
        },
        {
          "data": {
            "image/png": "[encoded data removed]",
            "text/plain": [
              "<Figure size 1800x720 with 2 Axes>"
            ]
          },
          "metadata": {
            "needs_background": "light"
          },
          "output_type": "display_data"
        }
      ],
      "source": [
        "msno.matrix(input_droped2)"
      ]
    },
    {
      "cell_type": "code",
      "execution_count": null,
      "metadata": {
        "id": "hjpAbb5EqSR-"
      },
      "outputs": [],
      "source": [
        "# the pathway of the functions:\n",
        "# 1. show misssing dispersion\n",
        "# 2. evaluate_feature:\n",
        "        #calling: XGboost model and evaluate_*_features functions.\n",
        "            #calling plot_matrix.\n",
        "        #calling: prepare_colums function:\n",
        "            #calling: impute_data function:\n",
        "                            #calling imputation by types\n",
        "                    #calling: plot_matrix.\n",
        "        # calling : plot_confusin_matrix function.\n",
        "\n",
        "df_features = input_droped2.drop(columns=name_frauds_labels)\n",
        "y_labels = input_droped2[name_frauds_labels]"
      ]
    },
    {
      "cell_type": "code",
      "execution_count": null,
      "metadata": {
        "id": "fD8kfaQiqSR-"
      },
      "outputs": [],
      "source": [
        "evaluate_feature(input_droped2,load_list_of_features,y_labels)"
      ]
    },
    {
      "cell_type": "code",
      "execution_count": null,
      "metadata": {
        "id": "ogfCWQDxqSR-"
      },
      "outputs": [],
      "source": [
        "for x, y in input_droped2.iteritems():\n",
        "    print(input_droped2[x].dtype, y.dtype)"
      ]
    },
    {
      "cell_type": "markdown",
      "metadata": {
        "id": "AXpyE3giqSR-"
      },
      "source": [
        "Given unknown data set with differentr partial features, we would like to perform visual anlysis of the missing fractures of the data, in order to decide with later preproccessing of the missing values."
      ]
    },
    {
      "cell_type": "markdown",
      "metadata": {
        "id": "Vkki7ExQqSSA"
      },
      "source": [
        "#Assuming invisability of the data we need to seperate our data by types\n",
        "#The purpose is the later creqation of suitable categories for AI data alysis"
      ]
    },
    {
      "cell_type": "code",
      "execution_count": null,
      "metadata": {
        "id": "igKEaRFrqSSA"
      },
      "outputs": [],
      "source": [
        "#input: missing data as df, labels as vector:\n",
        "#output: modified columns - imputed by impute_data function, and the type of the feature category\n",
        "#with transaction time, account and transaction key as indexes.\n",
        "\n",
        "def prepare_columns(df_ini):\n",
        "\n",
        "    types_of_features=pd.Series([])\n",
        "    counts_nans = df_ini.isna()\n",
        "\n",
        "    output_features= pd.DataFrame()\n",
        "    binary_features= pd.DataFrame()\n",
        "    categorical_features= pd.DataFrame()\n",
        "    numeric_features= pd.DataFrame()\n",
        "    time_sequental_features= pd.DataFrame()\n",
        "    NLP_dedicted_features=pd.DataFrame()\n",
        "\n",
        "    for name, column in df_ini.iteritems():\n",
        "        how_many_Nunq= column.dropna().nunique().sum()\n",
        "\n",
        "        if column.isna().sum() > 0:\n",
        "            print('warning: the %s feature is missing by %s values, which are %2.d precents of input. Filled forward by account',\n",
        "                      name, column.isna().sum(), column.isna().sum()/len(df_ini[0]) )\n",
        "\n",
        "        if name == name_balance: #filling NaNs on the same account if possible\n",
        "            column=df_ini.groupby([name_account])[name].fillna(method='ffill', inplace=True)\n",
        "            types_of_features.append('numeric', index=name)\n",
        "            output_features=pd.concat(column, axis=1, sort=False)\n",
        "            numeric_features[name]=(pd.Series(float(column)))\n",
        "            continue;\n",
        "\n",
        "        elif name == (name_time_transaction | name_account | name_key_transaction | name_key_payee): #mandatory features for manipulations\n",
        "            output_features.set_index(column, drop=False, append=True, inplace=True, verify_integrity=True)\n",
        "            binary_features.set_index(column, drop=False, append=True, inplace=True, verify_integrity=True)\n",
        "            categorical_features.set_index(column, drop=False, append=True, inplace=True, verify_integrity=True)\n",
        "            numeric_features.set_index(column, drop=False, append=True, inplace=True, verify_integrity=True)\n",
        "            NLP_dedicted_features.set_index(column, drop=False, append=True, inplace=True, verify_integrity=True)\n",
        "            continue;\n",
        "\n",
        "        elif how_many_Nunq ==1:\n",
        "            df_ini.drop(columns=name, inplace=True), print('column %s dropped due to single value',name)\n",
        "            continue;\n",
        "\n",
        "        elif how_many_Nunq ==2: #convert to 1 and 0\n",
        "            what_nonunis=column.nunique()\n",
        "            if (what_nonunis[0] < what_nonunis[1]):\n",
        "                column[[what_nonunis[0]]].set_value(0, inplace=True)\n",
        "                column[[what_nonunis[1]]].set_value(1, inplace=True)\n",
        "            else:\n",
        "                column[[what_nonunis[0]]].set_value(1, inplace=True)\n",
        "                column[[what_nonunis[1]]].set_value(0, inplace=True)\n",
        "\n",
        "            binary_features[name]=pd.Series(int(column))               #ad to binary features\n",
        "            types_of_features.append('binary', index=name)\n",
        "            continue;\n",
        "\n",
        "        elif (column.dtype == np.bool):\n",
        "            types_of_features.append('binary', index=name)\n",
        "            column[[True]].set_value(1, inplace=True)\n",
        "            column[[False]].set_value(0, inplace=True)\n",
        "            binary_features[name]=pd.Series(int(column))   #ad to binary features\n",
        "            continue;\n",
        "\n",
        "        elif (column.dtype == np.float64 or column.dtype == np.int64 or column.dtype == int32 or column.dtype == int64):\n",
        "            print(name, column.dtype)\n",
        "            if (how_many_Nunq <= 1000):\n",
        "                categorical_features[name]=(pd.cut(column, bins=1000)) #ad to categorical features\n",
        "                types_of_features.append('categorical', index=name)\n",
        "            else:\n",
        "                numeric_features[name]=pd.Series(float(column))\n",
        "                types_of_features.append('numeric', index=name)\n",
        "            continue;\n",
        "            #add to numeric features (needed back conversion in explanations)\n",
        "\n",
        "        elif (column.dtype == ('str' | 'unicode' | 'object')):\n",
        "\n",
        "            if (how_many_Nunq <= 1000):\n",
        "                categorical_features[name]=(pd.cut(column, bins=1000))\n",
        "                types_of_features.append('categorical', index=name)\n",
        "                                       #ad to categorical features by binning the feature to 1000 bins\n",
        "            else:\n",
        "                NLP_dedicted_features[name]==pd.Series(str(column))\n",
        "                types_of_features.append('str', index=name) # to langueage proccessing\n",
        "            continue;\n",
        "\n",
        "        elif dtype(column)=='datetime':\n",
        "            #order and ffil by...? by K-means? by other features?\n",
        "            time_sequental_features.append('datetime', index=name)\n",
        "            time_sequental_features[name]=(pd.Series(column)) # to time proccessing\n",
        "            continue;\n",
        "\n",
        "        else: print('%s udefined data type', column);\n",
        "\n",
        "#the features recollected by the types of the data for further editing\n",
        "    output_features=pd.concat([output_features, impute_data(binary_features, type_f='binary')], axis=1, sort=False)\n",
        "    output_features=pd.concat([output_features, impute_data(numeric, type_f='numeric')], axis=1, sort=False)\n",
        "    output_features=pd.concat([output_features, impute_data(categorical, type_f='categorical')], axis=1, sort=False)\n",
        "    output_features=pd.concat([output_features, impute_data(NLP_dedicted_features, type_f='NLP')], axis=1, sort=False)\n",
        "\n",
        "    df_for_stats=df_ini[name_time_transaction,name_amount_transaction, name_balance]\n",
        "    numeric_stats = calculate_time_stats(df_for_stats)\n",
        "    numeric_features=pd.concat([numeric_features, numeric_stats], axis=1, sort=False)\n",
        "    output_features=pd.concat([output_features, numeric_stats], axis=1, sort=False)\n",
        "\n",
        "    return(output_features)\n"
      ]
    },
    {
      "cell_type": "code",
      "execution_count": null,
      "metadata": {
        "id": "KW0FAR0dqSSA"
      },
      "outputs": [],
      "source": [
        "#Evaluation of missing data by creating data sets without the estimated feature\n",
        "#comparing performaces of the model:\n",
        "#with the feature\n",
        "#without the feature (mis)\n",
        "#and with the feature totally imputated by the distribution type (imp)\n",
        "\n",
        "#the input:\n",
        "#must be only features! Without NaNs, after imputation!\n",
        "#the output:\n",
        "# For each feature in the list:\n",
        "#a confusion matrix with true results vs random vs missing (ONE and all).\n",
        "\n",
        "def evaluate_features(df_X, df_y, list_columns=None):\n",
        "\n",
        "    if list_of_columns==None: list_of_columns=df_X.columns() #if no selection made, test all columns\n",
        "    results_missing=[]\n",
        "    results_missing_all=[]\n",
        "    results_smart_impute=[]\n",
        "    results_dumb_impute=[]\n",
        "    results_smart_imp_one=[]\n",
        "\n",
        "    train_X, train_y, test_X, tesy_y = train_test_split(df_X, df_y, test_size=0.3, random_state=42)\n",
        "\n",
        "    XGboost_misal=XGboost.fit(train_X.drop(columns=list_columns, inplace=False), train_y)\n",
        "    results_missing_all= XGboost_misal.predict(test_X.drop(columns=list_columns, inplace=False))\n",
        "\n",
        "    corr_misal, p_misal = pearsonr(df_y, results_missing_all)\n",
        "    print('The pearson correlation of results with missing all features: %s %.3f correlation and %.3f p-value' %(name, corr_misal, p_misal))\n",
        "    print('the confusion matrics and the precision for missing features:')\n",
        "    plot_confusion_matrix(df_y, results_missing_all)\n",
        "    #the output should one be for for all missing features\n",
        "\n",
        "#For dumb imputation: we check only the given (if any, else all) columns\n",
        "#and creating statistical estimates according to distribution type:\n",
        "    for name, column in df_X.iteritems(list_columns):\n",
        "\n",
        "        XGboost_mis=XGboost.fit(train_X.drop(columns=name, inplace=False), train_y)\n",
        "        results_missing= XGboost_mis.predict(test_X.drop(columns=name, inplace=False))\n",
        "\n",
        "        corr_mis, p_mis = pearsonr(df_y, results_missing)\n",
        "        print('The pearson correlation of results without ONE missing feature: %s %.3f correlation and %.3f p-value' %(name, corr_mis, p_mis))\n",
        "        print('the confusion matrics and the precision for %s missing:', name)\n",
        "        plot_confusion_matrix(df_y, results_missing)\n",
        "        #the output should be for each missing feature... N in total\n",
        "\n",
        "        if column.nunique().sum() == 2:  column_dum = evaluate_binary_feature(column)\n",
        "        elif column.nunique().sum() <= 1000:  column_dum = evaluate_categorical_feature(column)\n",
        "\n",
        "        elif dtype(column)==('float' | 'int'): column_dum = evaluate_numeric_feature(column) #  The data is numeric.\n",
        "        elif dtype(column)=='bool':  column_dum = evaluate_binary_feature(column) # this is the binary category\n",
        "        elif dtype(column)=='datetime': continue;\n",
        "        else: column_dum = evaluate_str_feature(column) #assuming all other features are textual\n",
        "\n",
        "        modified_X = train_X.drop(columns=name).assign(column_dum)\n",
        "\n",
        "        XGboost_imp_dum = XGboost.fit(modified_X, train_y)\n",
        "        results_dumb_impute = XGboost_imp_dum.predict(test_Xdrop(columns=name).assign(column_dum))\n",
        "\n",
        "        corr_idumb, p_dumb = pearsonr(df_y, results_dumb_impute)\n",
        "        print('The pearson correlation of results with ONE dummy imputed feature: %s %.3f correlation and %.3f p-value' %(name, corr_dumb, p_dumb))\n",
        "        print('the confusion matrics and the precision for %s dummy imputed feature:', name)\n",
        "        plot_confusion_matrix(df_y, results_dumb_impute)\n",
        "        #the output should be for each imputed feature...\n",
        "\n",
        "    df_smart_part_imputed = prepare_columns(df_X)\n",
        "    miss_overal_imputer= MissForest(decreasing=True, copy=False)\n",
        "    df_smart_imputed = miss_overal_imputer(df_smart_part_imputed)\n",
        "    train_Xm, train_ym, test_Xm, tesy_ym = train_test_split(df_smart_imputed, df_y, test_size=0.3, random_state=42)\n",
        "\n",
        "    for name, column in df_X.iteritems(list_columns):\n",
        "\n",
        "        XGboost_imp_smart = XGboost.fit(train_Xm, train_ym)\n",
        "        results_smart_impute = XGboost_imp_smart.predict(test_Xm)\n",
        "\n",
        "        XGboost_imp_one = XGboost.fit(train_Xm.drop(list_columns).assign(name), train_ym)\n",
        "        results_smart_imp_one = XGboost_imp_one.predict(test_Xm.drop(list_columns).assign(name))\n",
        "\n",
        "        corr_imp_one, p_imp_one = pearsonr(df_y, results_dumb_impute)\n",
        "        print('The pearson correlation of results with ONE smart imputed feature: %s %.3f correlation and %.3f p-value' %(name, corr_imp_one, p_imp_one))\n",
        "        print('the confusion matrics and the precision for ONE smarrt imputed feature:')\n",
        "        plot_confusion_matrix(results, results_dumb_impute)\n",
        "        #the output should be for each imputed feature..\n",
        "\n",
        "#mind the gap!\n",
        "#the following are overall results and don't need to be in a loop\n",
        "    corr_smart, p_smart = pearsonr(df_y, results_smart_impute)\n",
        "    print('The pearson correlation of results with all smart imputed feature: %s %.3f correlation and %.3f p-value' %(name, corr_smart, p_smart))\n",
        "    print('the confusion matrics and the precision for all smart imputed feature:')\n",
        "    plot_confusion_matrix(results, results_smart_impute)\n",
        "\n"
      ]
    },
    {
      "cell_type": "code",
      "execution_count": null,
      "metadata": {
        "id": "1JZizQQwqSSA"
      },
      "outputs": [],
      "source": [
        "#This function prints and plots the confusion matrix. Requeried for further run\n",
        "#Normalization can be applied by setting `normalize=True`\n",
        "\n",
        "#input: true labels, predicted labes\n",
        "#outputs: pretty confusion matrixes\n",
        "\n",
        "def plot_confusion_matrix(y_true, y_pred, classes, normalize=False, title=None, cmap=plt.cm.Blues):\n",
        "    if not title:\n",
        "        if normalize:\n",
        "            title = 'Normalized confusion matrix'\n",
        "        else:\n",
        "            title = 'Confusion matrix, without normalization'\n",
        "\n",
        "    # Compute confusion matrix\n",
        "    cm = confusion_matrix(y_true, y_pred)\n",
        "    # Only use the labels that appear in the data\n",
        "    classes = classes[unique_labels(y_true, y_pred)]\n",
        "    if normalize:\n",
        "        cm = cm.astype('float') / cm.sum(axis=1)[:, np.newaxis]\n",
        "        print(\"Normalized confusion matrix\")\n",
        "    else:\n",
        "        print('Confusion matrix, without normalization')\n",
        "\n",
        "    print(cm)\n",
        "\n",
        "    fig, ax = plt.subplots()\n",
        "    im = ax.imshow(cm, interpolation='nearest', cmap=cmap)\n",
        "    ax.figure.colorbar(im, ax=ax)\n",
        "    # We want to show all ticks...\n",
        "    ax.set(xticks=np.arange(cm.shape[1]),\n",
        "           yticks=np.arange(cm.shape[0]),\n",
        "           # ... and label them with the respective list entries\n",
        "           xticklabels=classes, yticklabels=classes,\n",
        "           title=title,\n",
        "           ylabel='True label',\n",
        "           xlabel='Predicted label')\n",
        "\n",
        "    # Rotate the tick labels and set their alignment.\n",
        "    plt.setp(ax.get_xticklabels(), rotation=45, ha=\"right\",\n",
        "             rotation_mode=\"anchor\")\n",
        "\n",
        "    # Loop over data dimensions and create text annotations.\n",
        "    fmt = '.2f' if normalize else 'd'\n",
        "    thresh = cm.max() / 2.\n",
        "    for i in range(cm.shape[0]):\n",
        "        for j in range(cm.shape[1]):\n",
        "            ax.text(j, i, format(cm[i, j], fmt),\n",
        "                    ha=\"center\", va=\"center\",\n",
        "                    color=\"white\" if cm[i, j] > thresh else \"black\")\n",
        "    fig.tight_layout()\n",
        "    return ax\n",
        "\n",
        "    np.set_printoptions(precision=2)\n",
        "\n",
        "    # Plot non-normalized confusion matrix\n",
        "    plot_confusion_matrix(y_true, y_pred, classes=class_names,\n",
        "                          title='Confusion matrix, without normalization')\n",
        "\n",
        "    # Plot normalized confusion matrix\n",
        "    plot_confusion_matrix(y_true, y_pred, classes=class_names, normalize=True,\n",
        "                          title='Normalized confusion matrix')\n",
        "\n",
        "    plt.show()"
      ]
    },
    {
      "cell_type": "code",
      "execution_count": null,
      "metadata": {
        "id": "k4aY2ytkqSSA"
      },
      "outputs": [],
      "source": [
        "#define the data type distribution\n",
        "#If Data Is Gaussian: Use Parametric Statistical Methods\n",
        "#else Use Nonparametric Statistical Methods\n",
        "#Testing for normality with two tests\n",
        "\n",
        "def evaluate_numeric_feature(column):\n",
        "    feature_mean = column.mean()\n",
        "    feature_std = column.std()\n",
        "    alpha = 0.025\n",
        "    stat, p = shapiro(column)\n",
        "    print('Shapiro test for normality=%.3f, p=%.3f' % (stat, p))\n",
        "\n",
        "    if p > alpha:\n",
        "        print(name, 'feature %s looks Gaussian: H0 accepted by Shapiro test for 0.1 p-value')\n",
        "        print('The feature would be reconstructed as normal, with %.3f mean and %.3f std' %(feature_mean, feature_std))\n",
        "        new_column = pd.Series( [np.random.normal(feature_mean, feature_std, len(column))], name=name)\n",
        "\n",
        "    else:\n",
        "        print('Sample does not look Gaussian by Shapiro with p-value 0.1 (reject H0)')\n",
        "        stat, p = normaltest(column)\n",
        "        print('D’Agostino Normality test =%.3f, p=%.3f' % (stat, p))\n",
        "\n",
        "        if p > alpha:\n",
        "            print(name, 'feature %s looks Gaussian: H0 accepted by D’Agostino Normality test for 0.1 p-value')\n",
        "            print('The feature would be reconstructed as normal, with %.3f mean and %.3f std' %(feature_mean, feature_std))\n",
        "            new_column = pd.Series( [np.random.normal(feature_mean, feature_std, len(column))], name=name)\n",
        "#linearity test for feature D’Agostino test for continious distribution\n",
        "        else:\n",
        "            print('Sample does not look Gaussian by D’Agostino Normality test with p-value 0.1 (reject H0)')\n",
        "            k_corr, p_ks = kstest(column, uniform(loc=column.min(), scale=column.max()).cdf)\n",
        "            print('Correlation value with linear distribution is %.3f score with p-value of %/3f' % (k_corr, p_ks))\n",
        "\n",
        "            if p_ks > alpha:\n",
        "                print(name, 'Feature %s looks lineary distributed by %.3f Kolmagorov- Smirnov test, with p-value %/3f:' % (k_corr, p_ks))\n",
        "                print('The feature would be reconstructed as linear, with range of minimum %.3f  and maximum %.3f ' %(column.min(), column.max()))\n",
        "                new_column = pd.Series( [np.random.unifor(column.min(), column.max(), len(column))], name=name)\n",
        "#assuming random or unknown distribution\n",
        "            else:\n",
        "                new_column = pd.Series([np.rand(column.min(), column.max(), len(column))], name=name)\n",
        "\n",
        "    return(new_column)\n",
        "\n",
        "\n",
        "# the input: column to be dummy imputed\n",
        "# must be only categorical  features that limited to ~1000-10000,\n",
        "# and much smaller than the data set!! n << M\n",
        "# Without NaNs, after imputation!\n",
        "# the output:\n",
        "# For each feature: imputed feature by statistical occurence of the category\n",
        "\n",
        "def evaluate_categorical_feature(column):\n",
        "\n",
        "    feature_counts[column.unique()] = column.nunique().count()\n",
        "    print(name, '/n', feature_counts[1:3])\n",
        "\n",
        "    feature_std = feature_counts.std()\n",
        "    feature_range= feature_counts.max()- feature_counts.min()\n",
        "\n",
        "    if feature_std / feature_range  <= 0.337:    #densed ~ normal\n",
        "        new_column = pd.Series( [np.random.normal(feature_counts.mean(), feature_std, len(column))], name=name)\n",
        "           # back_to_feature=feature_counts.key[feature_counts.value==closest[new_colum]] ## how???\n",
        "\n",
        "    elif (feature_std / feature_range > 0.337 & feature_std /feature_range < 0.773):\n",
        "        new_column= scipy.stats.rv_discrete(values=(column.nunique(), column.nunique().count()/column.nunique().count().sum()))\n",
        "        #sample from distribution according to percentage, it's not a symmetrical dispersion\n",
        "\n",
        "    else:\n",
        "        new_column = pd.Series([np.rand(column.min, column.max, len(column))], name=name)\n",
        "        #feature_std / feature_range  >= 0.773\n",
        "        # back_to_feature=feature_counts.key[feature_counts.value==closest[new_colum]] ## how???\n",
        "    return(new_column);\n",
        "\n",
        "def evaluate_str_feature(column):\n",
        "    new_column= scipy.stats.rv_discrete(values=(column.nunique(), column.nunique().count()/column.nunique().count().sum()))\n",
        "    #random.choices(column, k=len(column))\n",
        "\n"
      ]
    },
    {
      "cell_type": "code",
      "execution_count": null,
      "metadata": {
        "id": "J0m8UrNJqSSA"
      },
      "outputs": [],
      "source": [
        "def calculate_time_stats(df_for_time_stats):\n",
        "    df_for_time_stats['week_year'] = df_for_time_stats['name_time_transaction'].dt.strftime('%U-%Y')\n",
        "    df_for_time_stats['month_year'] = df_for_time_stats['name_time_transaction'].dt.strftime(\"%m-%Y\")\n",
        "\n",
        "    df = df.groupby('month_year').agg({\n",
        "        'name_amount_transaction': {\n",
        "            'amount_mean_M': pd.Series.mean,\n",
        "            'amount_max_M': pd.Series.max,\n",
        "            'amount_min_M': pd.Series.min,\n",
        "            'amount_count_M': np.alen,\n",
        "            'amount_delta_M': test_diff\n",
        "        },\n",
        "        'name_balance': {\n",
        "            'balance_mean_M': pd.Series.mean,\n",
        "            'balance_max_M': pd.Series.max,\n",
        "            'balance_min_M': pd.Series.min,\n",
        "            'balance_sum_M': pd.Series.sum,\n",
        "        }\n",
        "\n",
        "    })\n",
        "\n",
        "    df.columns = df.columns.droplevel()\n",
        "\n",
        "    #if df.amount_mean_M.count() < 20: return None\n",
        "\n",
        "    df.balance_mean_M.fillna(method='ffill', inplace=True)\n",
        "    df.balance_max_M.fillna(df.balance_mean_M, inplace=True)\n",
        "    df.balance_min_M.fillna(df.balance_mean_M, inplace=True)\n",
        "    df.fillna(0, inplace=True)\n",
        "\n",
        "\n",
        "    df=df.groupby('week_year').agg({\n",
        "        'name_amount_transaction': {\n",
        "            'amount_mean': pd.Series.mean,\n",
        "            'amount_max': pd.Series.max,\n",
        "            'amount_min': pd.Series.min,\n",
        "            'amount_count': np.alen,\n",
        "            'amount_delta': test_diff\n",
        "        },\n",
        "        'name_balance': {\n",
        "            'balance_mean': pd.Series.mean,\n",
        "            'balance_max': pd.Series.max,\n",
        "            'balance_min': pd.Series.min,\n",
        "            'balance_sum': pd.Series.sum,\n",
        "            'balance_delta': test_diff\n",
        "        }\n",
        "    })\n",
        "\n",
        "    df.columns = df.columns.droplevel()\n",
        "\n",
        "    #if df.amount_mean.count() < 10: df.balance_mean.fillna(df.balance_mean_M, inplace=True)\n",
        "    df.balance_mean.fillna(method='ffill', inplace=True)\n",
        "    df.balance_max.fillna(df.balance_mean, inplace=True)\n",
        "    df.balance_min.fillna(df.balance_mean, inplace=True)\n",
        "    df.fillna(0, inplace=True)\n",
        "\n",
        "    return df\n"
      ]
    },
    {
      "cell_type": "code",
      "execution_count": null,
      "metadata": {
        "id": "DupbWmgvqSSA"
      },
      "outputs": [],
      "source": [
        "#https://pypi.org/project/fancyimpute/\n",
        "# pip install impyute\n",
        "# pip install -U scikit-fuzzy\n",
        "# pip install missingpy\n",
        "# import impyute as impy - another option\n",
        "# we go by accounts only, because we are trying to model the\n",
        "# single user behavious and not multi -users dependencies (for now).\n",
        "\n",
        "import fancyimpute\n",
        "import scikit_fuzzy\n",
        "import skfuzzy as fuzz\n",
        "from missingpy import MissForest\n",
        "from fancyimpute import KNN, NuclearNormMinimization, SoftImpute, SimpleFill, IterativeSVD\n",
        "from sklearn.preprocessing import Imputer, OneHotEncoder, MultiLabelBinarizer\n",
        "\n",
        "def impute_data(df_x_type, type_f):\n",
        "# if we have variance: the EM or regressions, or multiply imputation\n",
        "    x_filled=pd.DataFrame()\n",
        "\n",
        "    if type_f == 'numeric':\n",
        "        print('numeric yes')\n",
        "        df_grouped = df_x_type.groupby(name_account)\n",
        "        for key, df_group in df_grouped:\n",
        "            if df_group.count() >30:\n",
        "                for name, column in df_group.iteritems():\n",
        "                    alpha = 0.025\n",
        "                    stat, p = shapiro(column)\n",
        "                    if p > alpha:\n",
        "                        df_group[name] = SimpleFill('mean').fit_transform(column)\n",
        "                    else:\n",
        "                        k_corr, p_ks = kstest(column, uniform(loc=column.min(), scale=column.max()).cdf)\n",
        "                        if p_ks > alpha:\n",
        "                            df_group[name] = df_group.apply(lambda x: np.random.choice(df_group[name].dropna().values) if np.isnan(x) else x)\n",
        "\n",
        "                df_group = KNN(k=5).fit_transform(df_group)\n",
        "                X_filled[key]=df_group\n",
        "                #combine modified account information to results\n",
        "\n",
        "                # when we cant use parametrical statistic\n",
        "                # wew go to predictive matrixes models - (when we have less than 30 entries per account).\n",
        "            else: X_filled[key]=df_group #leave empty for further imputation by all accounts\n",
        "\n",
        "        X_filled = IterativeSVD().fit_transform(X_filled)\n",
        "        ##slow for large matrices, maybe be should be taken inside for loop- per account\n",
        "\n",
        "        df_x_type.columns = df_x_type.columns.droplevel()\n",
        "        return(x_filled)\n",
        "\n",
        "    elif type_f == 'binary':\n",
        "# The graph method can estimate values based on unrelatedness of the events\n",
        "#(for more complicated combinatorics some rules between features and hidden estimates are assigned)\n",
        "        MFimputer = MissForest(decreasing=True, copy=False)\n",
        "        df_grouped = df_x_type.groupby(name_account)\n",
        "        for key, df_group in df_grouped:\n",
        "            if df_group.count() > 30:\n",
        "                df_group = MFimputer.fit_transform(df_group)\n",
        "                X_filled[key]=df_group\n",
        "            else: X_filled[key]=df_group #leave empty for further imputation by all accounts\n",
        "        X_filled =  imputer.fit_transform(X_filled)\n",
        "        bin_mse = ((X_filled[key] - df_group[key]) ** 2).mean()\n",
        "        print(\"MissForest imputer MSE: %f\" % bin_mse)\n",
        "        print('binary yes')\n",
        "        df_x_type.columns = df_x_type.columns.droplevel()\n",
        "        return(x_filled)\n",
        "\n",
        "    elif type_f == 'categorical':\n",
        "        enc = OneHotEncoder(handle_unknown='ignore')\n",
        "        df_grouped = df_x_type.groupby(name_account)\n",
        "        for key, df_group in df_grouped:\n",
        "            if df_group.shape[0]>30:\n",
        "                encoded_group = enc.fit_transform(df_group)\n",
        "                encoded_gr_filled = NuclearNormMinimization().fit_transform(encoded_group)\n",
        "                X_gr_filled= enc.inverse_transform(encoded_gr_filled)\n",
        "                X_filled[key]= X_gr_filled\n",
        "            else: X_filled[key]=df_group\n",
        "\n",
        "        #fill the minority by all accounts data\n",
        "        encoded_x = enc.fit_transform(X_filled)\n",
        "        encoded_filled = NuclearNormMinimization().fit_transform(encoded_x)\n",
        "        X_filled= enc.inverse_transform(encoded_filled)\n",
        "        categ_mse = ((X_filled[key] - df_group[key]) ** 2).mean()\n",
        "        print(\"NuclearNormMinimization MSE: %f\" % categ_mse)\n",
        "        print('categorical yes')\n",
        "        df_x_type.columns = df_x_type.columns.droplevel()\n",
        "\n",
        "        return(x_filled)\n",
        "\n",
        "\n",
        "    elif type_f == 'NLP':\n",
        "\n",
        "        df_grouped = df_x_type.groupby(name_account)\n",
        "        for key, df_group in df_grouped:\n",
        "            if df_group.count() > 30:\n",
        "                encoded_group = NN_AutoEncoder.fit_transform(df_group)\n",
        "                X_filled[key]= X_gr_filled\n",
        "\n",
        "            else: X_filled[key]=df_group #leave empty for further imputation by all accounts\n",
        "\n",
        "        #fill the minority by all accounts data\n",
        "        # using NNs Autoencoder architecture do encode unknown values by neuro fuzzy the known data to hidden features\n",
        "        X_filled= NN_AutoEncoder.fit_transform(X_filled)\n",
        "        # NN_AutoEncoder we can use prepaired function, of construct de novo\n",
        "        df_x_type.columns = df_x_type.columns.droplevel()\n",
        "        nlp_mse = ((X_filled[key] - df_group[key]) ** 2).mean()\n",
        "        print(\"NuclearNormMinimization MSE: %f\" % nlp_mse)\n",
        "        print('nlp yes')\n",
        "        return(x_filled)\n",
        "\n",
        "\n",
        "    else : print('%s udefined data', type_f)\n",
        "    return('Nope')\n",
        "\n"
      ]
    },
    {
      "cell_type": "code",
      "execution_count": null,
      "metadata": {
        "id": "IOE2Gai5qSSA"
      },
      "outputs": [],
      "source": [
        "## http://mlg.eng.cam.ac.uk/zoubin/papers/nips93.pdf\n",
        "# EM imputation\n",
        "# https://arxiv.org/pdf/1801.03583.pdf\n",
        "# Graphic imputation\n",
        "# https://arxiv.org/ftp/arxiv/papers/0812/0812.2412.pdf\n",
        "# random forest imputation\n",
        "# https://medium.com/ibm-data-science-experience/missing-data-conundrum-exploration-and-imputation-techniques-9f40abe0fd87\n",
        "# techniques\n",
        "# https://www.statsmodels.org/devel/imputation.html\n",
        "# multipliply imputation with chained equations"
      ]
    },
    {
      "cell_type": "code",
      "execution_count": null,
      "metadata": {
        "id": "HXu50S9MqSSB"
      },
      "outputs": [],
      "source": []
    }
  ],
  "metadata": {
    "celltoolbar": "Raw Cell Format",
    "kernelspec": {
      "display_name": "Python 3",
      "language": "python",
      "name": "python3"
    },
    "language_info": {
      "codemirror_mode": {
        "name": "ipython",
        "version": 3
      },
      "file_extension": ".py",
      "mimetype": "text/x-python",
      "name": "python",
      "nbconvert_exporter": "python",
      "pygments_lexer": "ipython3",
      "version": "3.7.3"
    },
    "colab": {
      "provenance": []
    }
  },
  "nbformat": 4,
  "nbformat_minor": 0
}